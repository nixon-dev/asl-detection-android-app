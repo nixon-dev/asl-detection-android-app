{
 "cells": [
  {
   "cell_type": "markdown",
   "id": "182fb601-2e38-4bb4-b69f-4f338c54d244",
   "metadata": {},
   "source": [
    "<h2>Requirements:</h2>\n",
    "Python 3.11.6 <br>\n",
    "Ultralytics 8.1.24 <br>\n",
    "Pytorch 2.1.2 + cu118 <br>\n",
    "Optional: RTX GPU for faster training (CPU will take forever)<br>"
   ]
  },
  {
   "cell_type": "markdown",
   "id": "ef6dc148-20f4-4927-9632-faae18f73b8c",
   "metadata": {},
   "source": [
    "<h3>Run this on your CMD</h3>"
   ]
  },
  {
   "cell_type": "raw",
   "id": "f938307c-0c8f-477c-a3ff-5cf9fe7eff9a",
   "metadata": {},
   "source": [
    "pip install torch==2.1.2 torchvision==0.16.2 torchaudio==2.1.2 --index-url https://download.pytorch.org/whl/cu118"
   ]
  },
  {
   "cell_type": "markdown",
   "id": "ac8c827c-856f-413e-bd68-79feb56a54c9",
   "metadata": {},
   "source": [
    "<h1>Start</h1>"
   ]
  },
  {
   "cell_type": "code",
   "execution_count": null,
   "id": "16212cc0-2524-413d-9705-7bfb274431dc",
   "metadata": {
    "scrolled": true
   },
   "outputs": [],
   "source": [
    "pip install ultralytics==8.1.24"
   ]
  },
  {
   "cell_type": "markdown",
   "id": "1a2e3208-8dca-4317-8687-db0380e6ba3e",
   "metadata": {},
   "source": [
    "<h3>Change roboflow_dataset_url to actual dataset url</h3> <br>\n",
    "This will take a long time depending on your GPU"
   ]
  },
  {
   "cell_type": "code",
   "execution_count": null,
   "id": "5e27dd71-2b43-48bf-9f05-eba66c1afe50",
   "metadata": {
    "scrolled": true
   },
   "outputs": [],
   "source": [
    "from ultralytics import YOLO\n",
    "\n",
    "model = YOLO('yolov8s.pt')\n",
    "\n",
    "results = model.train(\n",
    "    data='roboflow_dataset_url', # Change this to your actual dataset\n",
    "    epochs=100, # You can use higher epoch if you have better dataset, more epoch longer training time\n",
    "    imgsz=320, # Image size 320x320\n",
    "    device=0, \n",
    "    patience=10, # Model will stop training after 10 epochs of no improvements, Change this if you want the model to continue training \n",
    "    optimizer='SGD', # You can change to auto if you want, SGD has better optimization for my setup\n",
    "    warmup_epochs=3, \n",
    "    cache=True,\n",
    "    close_mosaic=10    \n",
    ")\n"
   ]
  },
  {
   "cell_type": "markdown",
   "id": "5f7c6ebf-df42-4526-a2bf-cfe7c02f9e28",
   "metadata": {
    "scrolled": true
   },
   "source": [
    "<h1>Validate Model</h1>"
   ]
  },
  {
   "cell_type": "code",
   "execution_count": null,
   "id": "844b12cb-2068-4774-af2b-8b068403a3c0",
   "metadata": {
    "scrolled": true
   },
   "outputs": [],
   "source": [
    "from ultralytics import YOLO\n",
    "\n",
    "model = YOLO('runs/detect/train/weights/best.pt')\n",
    "\n",
    "metrics = model.val()\n",
    "metrics.box.map\n",
    "metrics.box.map50\n",
    "metrics.box.map75 \n",
    "metrics.box.maps"
   ]
  },
  {
   "cell_type": "markdown",
   "id": "4adc6028-f094-4a1b-87c2-c3a2901a0027",
   "metadata": {},
   "source": [
    "Note: Add image to the folder images before running"
   ]
  },
  {
   "cell_type": "code",
   "execution_count": null,
   "id": "28af2e54-9d78-4da5-8fa7-137344fcfd3f",
   "metadata": {},
   "outputs": [],
   "source": [
    "from ultralytics import YOLO\n",
    "\n",
    "model = YOLO('runs/detect/train/weights/best.pt')\n",
    "\n",
    "model.predict('images', save=True, imgsz=640, conf=0.2)"
   ]
  },
  {
   "cell_type": "markdown",
   "id": "65850334-8b60-4c62-a7ec-9f48a4e0d666",
   "metadata": {},
   "source": [
    "<h1>Convert best.pt to .tflite</h1>\n",
    "Note: Make sure to use the latest best.pt, train folder will change from train to train2 and so on."
   ]
  },
  {
   "cell_type": "code",
   "execution_count": null,
   "id": "2f3d815e-d7ad-4f2d-b540-b3039f1230e1",
   "metadata": {},
   "outputs": [],
   "source": [
    "from ultralytics import YOLO\n",
    "\n",
    "model = YOLO('runs/detect/train/weights/best.pt') #best.pt location\n",
    "\n",
    "model.export(format='tflite', imgsz=320, int8=True)"
   ]
  },
  {
   "cell_type": "markdown",
   "id": "fca23e67-5be0-4029-b421-8fd29b95120c",
   "metadata": {},
   "source": [
    "<h1>Test .tflite model</h1>\n",
    "Note: .tflite model will be the same folder as your best.pt but will have their own folder best_saved_model\n",
    "You can try different .tflite model to test"
   ]
  },
  {
   "cell_type": "code",
   "execution_count": null,
   "id": "b3aae33b-b14a-43f6-861f-3e0f2d21407f",
   "metadata": {},
   "outputs": [],
   "source": [
    "from ultralytics import YOLO\n",
    "\n",
    "model = YOLO('runs\\\\detect\\\\train7\\\\weights\\\\best_saved_model\\\\best_float32.tflite')\n",
    "\n",
    "model.predict('test_images', save=True, imgsz=640, conf=0.2)"
   ]
  }
 ],
 "metadata": {
  "kernelspec": {
   "display_name": "Python 3 (ipykernel)",
   "language": "python",
   "name": "python3"
  },
  "language_info": {
   "codemirror_mode": {
    "name": "ipython",
    "version": 3
   },
   "file_extension": ".py",
   "mimetype": "text/x-python",
   "name": "python",
   "nbconvert_exporter": "python",
   "pygments_lexer": "ipython3",
   "version": "3.11.6"
  }
 },
 "nbformat": 4,
 "nbformat_minor": 5
}
